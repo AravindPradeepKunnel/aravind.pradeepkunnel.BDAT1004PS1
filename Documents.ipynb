{
 "cells": [
  {
   "cell_type": "markdown",
   "id": "ae2582be",
   "metadata": {},
   "source": [
    "# BDAT1004 PROBLEMSET 1"
   ]
  },
  {
   "cell_type": "code",
   "execution_count": 1,
   "id": "c1dfdda5",
   "metadata": {},
   "outputs": [
    {
     "name": "stdout",
     "output_type": "stream",
     "text": [
      "<class 'int'>\n",
      "<class 'float'>\n",
      "<class 'bool'>\n",
      "True\n",
      "<class 'str'>\n",
      "<class 'int'>\n",
      "10\n",
      "<class 'str'>\n",
      "55\n",
      "<class 'str'>\n",
      "52\n",
      "<class 'float'>\n",
      "2.5\n",
      "<class 'int'>\n",
      "1\n",
      "<class 'set'>\n",
      "<class 'bool'>\n",
      "False\n",
      "<class 'float'>\n",
      "3.141592653589793\n"
     ]
    }
   ],
   "source": [
    "#Question 1\n",
    "\n",
    "\n",
    "print(type(5))\n",
    "print(type(5.0))\n",
    "print(type(5>1)), print(5>1)\n",
    "print(type('5'))\n",
    "print(type(5 * 2)),print(5*2)\n",
    "print(type('5'*2)),print('5'*2)\n",
    "print(type('5'+'2')),print('5'+'2')\n",
    "print(type(5/2)),print(5/2)\n",
    "print(type(5%2)),print(5%2)\n",
    "print(type({5,2,1}))\n",
    "print(type(5 == 3)),print(5 == 3)\n",
    "import math\n",
    "print(type(math.pi))\n",
    "print(math.pi)"
   ]
  },
  {
   "cell_type": "code",
   "execution_count": 10,
   "id": "955a49b0",
   "metadata": {},
   "outputs": [
    {
     "name": "stdout",
     "output_type": "stream",
     "text": [
      "34\n"
     ]
    }
   ],
   "source": [
    "#Question 2a\n",
    "\n",
    "#to get the length of \"Supercalifragilisticexpialidocious\"\n",
    "x= 'Supercalifragilisticexpialidocious'\n",
    "print(len(x))"
   ]
  },
  {
   "cell_type": "code",
   "execution_count": 9,
   "id": "b636831b",
   "metadata": {},
   "outputs": [
    {
     "name": "stdout",
     "output_type": "stream",
     "text": [
      "True\n"
     ]
    }
   ],
   "source": [
    "#Question 2b\n",
    "\n",
    "#to find the substring\n",
    "x ='Supercalifragilisticexpialidocious'\n",
    "print(x.__contains__('ice'))"
   ]
  },
  {
   "cell_type": "code",
   "execution_count": 12,
   "id": "cbb4d24a",
   "metadata": {},
   "outputs": [
    {
     "name": "stdout",
     "output_type": "stream",
     "text": [
      "34\n",
      "28\n",
      "34\n",
      "['Supercalifragilisticexpialidocious', 'Bababadalgharaghtakamminarronnkonn']\n"
     ]
    }
   ],
   "source": [
    "#Question 2c\n",
    "\n",
    "a='Supercalifragilisticexpialidocious'\n",
    "b=' Honorificabilitudinitatibus'\n",
    "c='Bababadalgharaghtakamminarronnkonn'\n",
    "print(len(a))\n",
    "print(len(b))\n",
    "print(len(c))\n",
    "longest_word=[(a), (c)]\n",
    "print (longest_word)"
   ]
  },
  {
   "cell_type": "code",
   "execution_count": 13,
   "id": "f3e9ebb6",
   "metadata": {},
   "outputs": [
    {
     "name": "stdout",
     "output_type": "stream",
     "text": [
      "['Bartok', 'Bellini', 'Berlioz', 'Bernstein', 'Borodin', 'Brian', 'Buxtehude']\n",
      "Bartok\n",
      "Buxtehude\n"
     ]
    }
   ],
   "source": [
    "#Question 2d\n",
    "\n",
    "#to find which is first  and  last composer\n",
    "composers  =  ['Berlioz', 'Borodin', 'Brian', 'Bartok', 'Bellini', 'Buxtehude', 'Bernstein']\n",
    "sort_composers =sorted(composers)\n",
    "print(sort_composers)\n",
    "print(sort_composers[0])\n",
    "print(sort_composers[6])"
   ]
  },
  {
   "cell_type": "code",
   "execution_count": 14,
   "id": "143ae7ae",
   "metadata": {},
   "outputs": [
    {
     "name": "stdout",
     "output_type": "stream",
     "text": [
      "1.7320508075688772\n"
     ]
    }
   ],
   "source": [
    "#Question 3\n",
    "\n",
    "import math\n",
    "\n",
    "def triangleArea(a,b,c):\n",
    "    s = (a + b + c) / 2\n",
    "    area =math.sqrt(s * (s-a) * (s-b) * (s-c))\n",
    "    return area\n",
    "\n",
    "print(triangleArea(2, 2, 2))"
   ]
  },
  {
   "cell_type": "code",
   "execution_count": 19,
   "id": "93677ce1",
   "metadata": {},
   "outputs": [
    {
     "name": "stdout",
     "output_type": "stream",
     "text": [
      "Input the number of elements to be stored in the array: 5\n",
      "element - 0: 25\n",
      "element - 1: 47\n",
      "element - 2: 42\n",
      "element - 3: 56\n",
      "element - 4: 32\n",
      "The Even elements are:\n",
      "42 56 32\n",
      "The Odd elements are:\n",
      "25 47\n"
     ]
    }
   ],
   "source": [
    "#Question 4\n",
    "\n",
    "number_of_elements = int(input(\"Input the number of elements to be stored in the array: \"))\n",
    "arr = []\n",
    "\n",
    "for i in range(number_of_elements):\n",
    "    arr.append(int(input(\"element - {}: \".format(i))))\n",
    "\n",
    "even_arr = [x for x in arr if x % 2 == 0]\n",
    "odd_arr = [x for x in arr if x % 2 != 0]\n",
    "\n",
    "print(\"The Even elements are:\")\n",
    "print(*even_arr)\n",
    "print(\"The Odd elements are:\")\n",
    "print(*odd_arr)\n"
   ]
  },
  {
   "cell_type": "code",
   "execution_count": 20,
   "id": "302f8e61",
   "metadata": {},
   "outputs": [
    {
     "name": "stdout",
     "output_type": "stream",
     "text": [
      "True\n",
      "False\n"
     ]
    }
   ],
   "source": [
    "#Question 5a\n",
    "\n",
    "def inside(x, y, x1, y1, x2, y2):\n",
    "    if x >= x1 and  x <= x2 and y >= y1 and y <=y2:\n",
    "        return True\n",
    "    else:\n",
    "        return False\n",
    "    \n",
    "print(inside(1,1,0,0,2,3))\n",
    "\n",
    "print(inside(-1,-1,0,0,2,3))\n"
   ]
  },
  {
   "cell_type": "code",
   "execution_count": 21,
   "id": "719387ca",
   "metadata": {},
   "outputs": [
    {
     "name": "stdout",
     "output_type": "stream",
     "text": [
      "False\n"
     ]
    }
   ],
   "source": [
    "#Question 5b\n",
    "\n",
    "def inside(x, y, x1, y1, x2, y2):\n",
    "    if x>= x1 and x <= x2 and y >= y1 and y <= y2:\n",
    "        return True\n",
    "    else:\n",
    "        return False\n",
    "    \n",
    "print(inside(1,1,0.3,0.5,1.1,0.7) and inside(1,1,0.5,0.2,1.1,2))\n"
   ]
  },
  {
   "cell_type": "code",
   "execution_count": 22,
   "id": "9fcedaa7",
   "metadata": {},
   "outputs": [
    {
     "name": "stdout",
     "output_type": "stream",
     "text": [
      "appyhay\n",
      "enterway\n"
     ]
    }
   ],
   "source": [
    "#Question 6\n",
    "\n",
    "def pig(word):\n",
    "    word = word.lower()\n",
    "    vowels =  'aeiou'\n",
    "    if word[0] in vowels:\n",
    "        return word + 'way'\n",
    "    else:\n",
    "        return word[1:] + word[0] + 'ay'\n",
    "    \n",
    "print(pig(\"happy\"))\n",
    "print(pig(\"Enter\"))"
   ]
  },
  {
   "cell_type": "code",
   "execution_count": 49,
   "id": "b4cf72a7",
   "metadata": {},
   "outputs": [
    {
     "name": "stdout",
     "output_type": "stream",
     "text": [
      "There are 15 patients of blood type A.\n",
      "There is one patient of blood type B.\n",
      "There are 13 patients of blood type AB.\n",
      "There are 15 patients of blood type O.\n",
      "There are no patients of blood type OO.\n"
     ]
    }
   ],
   "source": [
    "#Question 7\n",
    "\n",
    "def bldcount(file_name):\n",
    "    file_path = r'C:\\Users\\Aravind\\Downloads\\bloodtype.txt'\n",
    "    with open(file_path) as f:\n",
    "        content = f.read()\n",
    "        blood_types = content.split()\n",
    "        blood_type_count = {'A': 0, 'B': 0, 'AB': 0, 'O': 0, 'OO': 0}\n",
    "        for bt in blood_types:\n",
    "            blood_type_count[bt] += 1\n",
    "        for bt, count in blood_type_count.items():\n",
    "            if count == 1:\n",
    "                print(f\"There is one patient of blood type {bt}.\")\n",
    "            elif count > 1:\n",
    "                print(f\"There are {count} patients of blood type {bt}.\")\n",
    "            else:\n",
    "                print(f\"There are no patients of blood type {bt}.\")\n",
    "\n",
    "bldcount(\"bloodtype.txt\")"
   ]
  },
  {
   "cell_type": "code",
   "execution_count": 52,
   "id": "5ecd609b",
   "metadata": {},
   "outputs": [
    {
     "name": "stdout",
     "output_type": "stream",
     "text": [
      "122.96544\n",
      "1.241401\n"
     ]
    }
   ],
   "source": [
    "#Question 8\n",
    "\n",
    "def curconc(currency, amount):\n",
    "    exchange_rates = {}\n",
    "    with open(\"C:/Users/Aravind/Downloads/Currencies.txt\") as f:\n",
    "        for line in f:\n",
    "            line_split = line.split()\n",
    "            exchange_rates[line_split[0]] = float(line_split[1])\n",
    "    return amount * exchange_rates[currency]\n",
    "\n",
    "print(curconc('EUR', 100))\n",
    "print(curconc('JPY', 100))"
   ]
  },
  {
   "cell_type": "code",
   "execution_count": 53,
   "id": "a70bb7a1",
   "metadata": {},
   "outputs": [
    {
     "ename": "TypeError",
     "evalue": "unsupported operand type(s) for +: 'int' and 'str'",
     "output_type": "error",
     "traceback": [
      "\u001b[1;31m---------------------------------------------------------------------------\u001b[0m",
      "\u001b[1;31mTypeError\u001b[0m                                 Traceback (most recent call last)",
      "Cell \u001b[1;32mIn[53], line 3\u001b[0m\n\u001b[0;32m      1\u001b[0m \u001b[38;5;66;03m#Question 9\u001b[39;00m\n\u001b[1;32m----> 3\u001b[0m result \u001b[38;5;241m=\u001b[39m \u001b[38;5;241;43m6\u001b[39;49m\u001b[43m \u001b[49m\u001b[38;5;241;43m+\u001b[39;49m\u001b[43m \u001b[49m\u001b[38;5;124;43m'\u001b[39;49m\u001b[38;5;124;43ma\u001b[39;49m\u001b[38;5;124;43m'\u001b[39;49m\n\u001b[0;32m      5\u001b[0m \u001b[38;5;28mprint\u001b[39m(result)\n",
      "\u001b[1;31mTypeError\u001b[0m: unsupported operand type(s) for +: 'int' and 'str'"
     ]
    }
   ],
   "source": [
    "#Question 9\n",
    "\n",
    "#trying to add 6 + 's'\n",
    "\n",
    "result = 6 + 'a'\n",
    "\n",
    "print(result)"
   ]
  },
  {
   "cell_type": "code",
   "execution_count": 54,
   "id": "39260a3a",
   "metadata": {},
   "outputs": [
    {
     "ename": "IndexError",
     "evalue": "list index out of range",
     "output_type": "error",
     "traceback": [
      "\u001b[1;31m---------------------------------------------------------------------------\u001b[0m",
      "\u001b[1;31mIndexError\u001b[0m                                Traceback (most recent call last)",
      "Cell \u001b[1;32mIn[54], line 4\u001b[0m\n\u001b[0;32m      1\u001b[0m \u001b[38;5;66;03m#reffering to 12th item in a list of 10\u001b[39;00m\n\u001b[0;32m      3\u001b[0m \u001b[38;5;28mlist\u001b[39m \u001b[38;5;241m=\u001b[39m [\u001b[38;5;241m1\u001b[39m, \u001b[38;5;241m2\u001b[39m, \u001b[38;5;241m3\u001b[39m, \u001b[38;5;241m4\u001b[39m, \u001b[38;5;241m5\u001b[39m, \u001b[38;5;241m6\u001b[39m, \u001b[38;5;241m7\u001b[39m, \u001b[38;5;241m8\u001b[39m, \u001b[38;5;241m9\u001b[39m, \u001b[38;5;241m10\u001b[39m]\n\u001b[1;32m----> 4\u001b[0m refer \u001b[38;5;241m=\u001b[39m \u001b[38;5;28;43mlist\u001b[39;49m\u001b[43m[\u001b[49m\u001b[38;5;241;43m12\u001b[39;49m\u001b[43m]\u001b[49m\n\u001b[0;32m      6\u001b[0m \u001b[38;5;28mprint\u001b[39m(refer)\n",
      "\u001b[1;31mIndexError\u001b[0m: list index out of range"
     ]
    }
   ],
   "source": [
    "#reffering to 12th item in a list of 10\n",
    "\n",
    "list = [1, 2, 3, 4, 5, 6, 7, 8, 9, 10]\n",
    "refer = list[12]\n",
    "\n",
    "print(refer)"
   ]
  },
  {
   "cell_type": "code",
   "execution_count": 57,
   "id": "298971ff",
   "metadata": {},
   "outputs": [
    {
     "name": "stdout",
     "output_type": "stream",
     "text": [
      "Supercalifragilisticexpialidocious\n"
     ]
    }
   ],
   "source": [
    "#using  undeclared variable\n",
    "\n",
    "print(x)"
   ]
  },
  {
   "cell_type": "code",
   "execution_count": 63,
   "id": "12c60755",
   "metadata": {},
   "outputs": [
    {
     "ename": "FileNotFoundError",
     "evalue": "[Errno 2] No such file or directory: 'C:\\\\Users\\\\Aravind\\\\Downloads\\\\file1.txt'",
     "output_type": "error",
     "traceback": [
      "\u001b[1;31m---------------------------------------------------------------------------\u001b[0m",
      "\u001b[1;31mFileNotFoundError\u001b[0m                         Traceback (most recent call last)",
      "Cell \u001b[1;32mIn[63], line 4\u001b[0m\n\u001b[0;32m      1\u001b[0m \u001b[38;5;66;03m#opening file that does not exist\u001b[39;00m\n\u001b[0;32m      3\u001b[0m file_path \u001b[38;5;241m=\u001b[39m \u001b[38;5;124mr\u001b[39m\u001b[38;5;124m'\u001b[39m\u001b[38;5;124mC:\u001b[39m\u001b[38;5;124m\\\u001b[39m\u001b[38;5;124mUsers\u001b[39m\u001b[38;5;124m\\\u001b[39m\u001b[38;5;124mAravind\u001b[39m\u001b[38;5;124m\\\u001b[39m\u001b[38;5;124mDownloads\u001b[39m\u001b[38;5;124m\\\u001b[39m\u001b[38;5;124mfile1.txt\u001b[39m\u001b[38;5;124m'\u001b[39m\n\u001b[1;32m----> 4\u001b[0m \u001b[38;5;28;01mwith\u001b[39;00m \u001b[38;5;28;43mopen\u001b[39;49m\u001b[43m(\u001b[49m\u001b[43mfile_path\u001b[49m\u001b[43m)\u001b[49m \u001b[38;5;28;01mas\u001b[39;00m f:\n\u001b[0;32m      5\u001b[0m     content \u001b[38;5;241m=\u001b[39m f\u001b[38;5;241m.\u001b[39mread()\n\u001b[0;32m      6\u001b[0m \u001b[38;5;28mprint\u001b[39m(content)\n",
      "File \u001b[1;32m~\\anaconda3\\lib\\site-packages\\IPython\\core\\interactiveshell.py:282\u001b[0m, in \u001b[0;36m_modified_open\u001b[1;34m(file, *args, **kwargs)\u001b[0m\n\u001b[0;32m    275\u001b[0m \u001b[38;5;28;01mif\u001b[39;00m file \u001b[38;5;129;01min\u001b[39;00m {\u001b[38;5;241m0\u001b[39m, \u001b[38;5;241m1\u001b[39m, \u001b[38;5;241m2\u001b[39m}:\n\u001b[0;32m    276\u001b[0m     \u001b[38;5;28;01mraise\u001b[39;00m \u001b[38;5;167;01mValueError\u001b[39;00m(\n\u001b[0;32m    277\u001b[0m         \u001b[38;5;124mf\u001b[39m\u001b[38;5;124m\"\u001b[39m\u001b[38;5;124mIPython won\u001b[39m\u001b[38;5;124m'\u001b[39m\u001b[38;5;124mt let you open fd=\u001b[39m\u001b[38;5;132;01m{\u001b[39;00mfile\u001b[38;5;132;01m}\u001b[39;00m\u001b[38;5;124m by default \u001b[39m\u001b[38;5;124m\"\u001b[39m\n\u001b[0;32m    278\u001b[0m         \u001b[38;5;124m\"\u001b[39m\u001b[38;5;124mas it is likely to crash IPython. If you know what you are doing, \u001b[39m\u001b[38;5;124m\"\u001b[39m\n\u001b[0;32m    279\u001b[0m         \u001b[38;5;124m\"\u001b[39m\u001b[38;5;124myou can use builtins\u001b[39m\u001b[38;5;124m'\u001b[39m\u001b[38;5;124m open.\u001b[39m\u001b[38;5;124m\"\u001b[39m\n\u001b[0;32m    280\u001b[0m     )\n\u001b[1;32m--> 282\u001b[0m \u001b[38;5;28;01mreturn\u001b[39;00m io_open(file, \u001b[38;5;241m*\u001b[39margs, \u001b[38;5;241m*\u001b[39m\u001b[38;5;241m*\u001b[39mkwargs)\n",
      "\u001b[1;31mFileNotFoundError\u001b[0m: [Errno 2] No such file or directory: 'C:\\\\Users\\\\Aravind\\\\Downloads\\\\file1.txt'"
     ]
    }
   ],
   "source": [
    "#opening file that does not exist\n",
    "\n",
    "file_path = r'C:\\Users\\Aravind\\Downloads\\file1.txt'\n",
    "with open(file_path) as f:\n",
    "    content = f.read()\n",
    "print(content)\n"
   ]
  },
  {
   "cell_type": "code",
   "execution_count": 64,
   "id": "daab7922",
   "metadata": {},
   "outputs": [],
   "source": [
    "#Question 10\n",
    "\n",
    "def frequencies(text):\n",
    "    text = text.lower()\n",
    "    letters = 'abcdefghijklmnopqrstuvwxyz'\n",
    "    result =  [0] * 26\n",
    "    for char in text:\n",
    "        if char in letters:\n",
    "            result[letters.index(char)] += 1\n",
    "    return result"
   ]
  },
  {
   "cell_type": "code",
   "execution_count": 65,
   "id": "dba14701",
   "metadata": {},
   "outputs": [
    {
     "data": {
      "text/plain": [
       "[1, 1, 1, 3, 5, 1, 1, 2, 1, 0, 1, 0, 1, 2, 4, 0, 1, 2, 0, 3, 1, 0, 1, 1, 0, 0]"
      ]
     },
     "execution_count": 65,
     "metadata": {},
     "output_type": "execute_result"
    }
   ],
   "source": [
    " frequencies('The quick red fox got bored and went home.')"
   ]
  },
  {
   "cell_type": "code",
   "execution_count": 67,
   "id": "510510e8",
   "metadata": {},
   "outputs": [
    {
     "data": {
      "text/plain": [
       "[1, 0, 0, 0, 1, 0, 0, 0, 0, 0, 0, 1, 0, 0, 0, 2, 0, 0, 0, 0, 0, 0, 0, 0, 0, 0]"
      ]
     },
     "execution_count": 67,
     "metadata": {},
     "output_type": "execute_result"
    }
   ],
   "source": [
    " frequencies('apple')"
   ]
  },
  {
   "cell_type": "code",
   "execution_count": null,
   "id": "ec7254d2",
   "metadata": {},
   "outputs": [],
   "source": []
  }
 ],
 "metadata": {
  "kernelspec": {
   "display_name": "Python 3 (ipykernel)",
   "language": "python",
   "name": "python3"
  },
  "language_info": {
   "codemirror_mode": {
    "name": "ipython",
    "version": 3
   },
   "file_extension": ".py",
   "mimetype": "text/x-python",
   "name": "python",
   "nbconvert_exporter": "python",
   "pygments_lexer": "ipython3",
   "version": "3.10.9"
  }
 },
 "nbformat": 4,
 "nbformat_minor": 5
}
